{
  "nbformat": 4,
  "nbformat_minor": 0,
  "metadata": {
    "colab": {
      "provenance": [],
      "collapsed_sections": [
        "ENLh_hgO-SP5",
        "nPHUdCGbC2jt"
      ],
      "include_colab_link": true
    },
    "kernelspec": {
      "name": "python3",
      "display_name": "Python 3"
    },
    "language_info": {
      "name": "python"
    },
    "accelerator": "GPU",
    "gpuClass": "standard"
  },
  "cells": [
    {
      "cell_type": "markdown",
      "metadata": {
        "id": "view-in-github",
        "colab_type": "text"
      },
      "source": [
        "<a href=\"https://colab.research.google.com/github/MaduFavour/Coding-Samples/blob/main/MotionPlannerTeach.ipynb\" target=\"_parent\"><img src=\"https://colab.research.google.com/assets/colab-badge.svg\" alt=\"Open In Colab\"/></a>"
      ]
    },
    {
      "cell_type": "code",
      "execution_count": null,
      "metadata": {
        "colab": {
          "base_uri": "https://localhost:8080/"
        },
        "id": "Fxd74ja9sCq4",
        "outputId": "b022c11e-3902-4b95-9c2e-b2479837b8aa"
      },
      "outputs": [
        {
          "output_type": "stream",
          "name": "stdout",
          "text": [
            "Drive already mounted at /content/drive; to attempt to forcibly remount, call drive.mount(\"/content/drive\", force_remount=True).\n"
          ]
        }
      ],
      "source": [
        "from google.colab import drive \n",
        "drive.mount('/content/drive')"
      ]
    },
    {
      "cell_type": "code",
      "source": [
        "%cd /content/drive/MyDrive/AmNext/CrowdModel (1)"
      ],
      "metadata": {
        "colab": {
          "base_uri": "https://localhost:8080/"
        },
        "id": "zha4o-5LsKzX",
        "outputId": "df1ee69a-ce37-4e7f-c7a2-3d462b5b2748"
      },
      "execution_count": null,
      "outputs": [
        {
          "output_type": "stream",
          "name": "stdout",
          "text": [
            "/content/drive/MyDrive/AmNext/CrowdModel (1)\n"
          ]
        }
      ]
    },
    {
      "cell_type": "markdown",
      "source": [
        "##Libraries"
      ],
      "metadata": {
        "id": "BD55y9utsshI"
      }
    },
    {
      "cell_type": "code",
      "source": [
        "import math\n",
        "import sys\n",
        "import torch\n",
        "import numpy as np\n",
        "import pandas as pd\n",
        "from xml.etree import ElementTree as ET\n",
        "from torch.utils.data import Dataset\n",
        "from torch.utils.data import DataLoader\n",
        "import pickle\n",
        "import argparse\n",
        "import glob\n",
        "import torch.distributions.multivariate_normal as torchdist\n",
        "from utils import * \n",
        "from metrics import * \n",
        "from model import social_stgcnn\n",
        "import copy"
      ],
      "metadata": {
        "id": "s2iTcSK-slcu"
      },
      "execution_count": null,
      "outputs": []
    },
    {
      "cell_type": "code",
      "source": [
        "import os\n",
        "#this allows pygame to create visualizations\n",
        "os.environ[\"SDL_VIDEODRIVER\"] = \"dummy\"\n",
        "from google.colab.patches import cv2_imshow\n",
        "from google.colab import output"
      ],
      "metadata": {
        "id": "JeqoiTOFsveG"
      },
      "execution_count": null,
      "outputs": []
    },
    {
      "cell_type": "code",
      "source": [
        "###Import all mapUtils functions here###\n",
        "from mapUtils import *"
      ],
      "metadata": {
        "id": "FcZbxoVj0cC6",
        "colab": {
          "base_uri": "https://localhost:8080/"
        },
        "outputId": "50c09248-0614-47e4-ffe3-c68c33ba0c00"
      },
      "execution_count": null,
      "outputs": [
        {
          "output_type": "stream",
          "name": "stdout",
          "text": [
            "pygame 2.3.0 (SDL 2.24.2, Python 3.9.16)\n",
            "Hello from the pygame community. https://www.pygame.org/contribute.html\n"
          ]
        }
      ]
    },
    {
      "cell_type": "code",
      "source": [
        "import pygame, os, math, time, random, copy\n",
        "from pygame.locals import *"
      ],
      "metadata": {
        "id": "9Rx0qrVstToQ"
      },
      "execution_count": null,
      "outputs": []
    },
    {
      "cell_type": "code",
      "source": [
        "pygame.init()"
      ],
      "metadata": {
        "id": "qPLjikLotZzt",
        "colab": {
          "base_uri": "https://localhost:8080/"
        },
        "outputId": "95e2b3c7-ebb1-4ee1-a0f3-fbbb0a44ab7e"
      },
      "execution_count": null,
      "outputs": [
        {
          "output_type": "execute_result",
          "data": {
            "text/plain": [
              "(4, 1)"
            ]
          },
          "metadata": {},
          "execution_count": 7
        }
      ]
    },
    {
      "cell_type": "markdown",
      "source": [
        "## Constants and Parameters"
      ],
      "metadata": {
        "id": "r8qJeoa3tfWC"
      }
    },
    {
      "cell_type": "code",
      "source": [
        "from google.colab import drive\n",
        "drive.mount('/content/drive')"
      ],
      "metadata": {
        "id": "83_Y8IyqijQV",
        "colab": {
          "base_uri": "https://localhost:8080/"
        },
        "outputId": "637a3b33-241b-4848-9081-d7dea6e0c98a"
      },
      "execution_count": null,
      "outputs": [
        {
          "output_type": "stream",
          "name": "stdout",
          "text": [
            "Drive already mounted at /content/drive; to attempt to forcibly remount, call drive.mount(\"/content/drive\", force_remount=True).\n"
          ]
        }
      ]
    },
    {
      "cell_type": "markdown",
      "source": [
        "### Robot and Obstacle Parameters"
      ],
      "metadata": {
        "id": "sdYol1Ce6Qmn"
      }
    },
    {
      "cell_type": "code",
      "source": [
        "# Units here are in metres and radians using our standard coordinate frame\n",
        "BARRIERRADIUS = 0.25 #radius of dynamic obstacles\n",
        "STATICBARRIERTHICKNESS = 0.1 #radius of static obstacles\n",
        "ROBOTRADIUS = 0.20 #Radius of robot\n",
        "\n",
        "W = 2 * ROBOTRADIUS # width of robot\n",
        "\n",
        "#YOU MAY MODIFY SAFEDIST TO MEET YOUR GOALS\n",
        "SAFEDIST = ROBOTRADIUS + BARRIERRADIUS      # safety radius used in the cost function for avoiding obstacles\n",
        "\n",
        "MAXVELOCITY = 0.5    #ms^(-1) max speed of each wheel\n",
        "MAXACCELERATION = 0.8#0.8#0.2 #ms^(-2) max rate we can change speed of each wheel\n",
        "\n",
        "BARRIERVELOCITYRANGE = 0.15\n"
      ],
      "metadata": {
        "id": "4wkR7hFutkHB"
      },
      "execution_count": null,
      "outputs": []
    },
    {
      "cell_type": "markdown",
      "source": [
        "### Dataset Parameters"
      ],
      "metadata": {
        "id": "_QI8_WqS6TKP"
      }
    },
    {
      "cell_type": "code",
      "source": [
        "# Select dataset to work with and set corresponding world parameters\n",
        "\n",
        "#CHANGE TO DATASET YOU ARE WORKING WITH : 'seq_eth' for eth and 'seq_hotel' for hotel\n",
        "datasetName = 'seq_eth' \n",
        "mapParameters = setMapParameters(datasetName)\n",
        "[variables,linebarriers,circlebarriers] = getmap(mapParameters[0],mapParameters[4])\n",
        "[pathXML, WIDTH, HEIGHT, H, H_inv, x_initial, y_initial, x_goal, y_goal, data_number, theta_initial, map_image] = mapParameters"
      ],
      "metadata": {
        "id": "0WzJaoYb0y4c"
      },
      "execution_count": null,
      "outputs": []
    },
    {
      "cell_type": "markdown",
      "source": [
        "### Region of Interest"
      ],
      "metadata": {
        "id": "61iCzXjt9bUi"
      }
    },
    {
      "cell_type": "code",
      "source": [
        "#region of Interest\n",
        "xmin = -7.0 \n",
        "ymin = -3.0\n",
        "xmax= 14.0 \n",
        "ymax= 3.0 \n",
        "PLAYFIELDCORNERS = (xmin, ymin, xmax, ymax)"
      ],
      "metadata": {
        "id": "-YkX5ro_9acf"
      },
      "execution_count": null,
      "outputs": []
    },
    {
      "cell_type": "markdown",
      "source": [
        "### Constants for Graphics"
      ],
      "metadata": {
        "id": "S7FyAoTY6M8_"
      }
    },
    {
      "cell_type": "code",
      "source": [
        "size = [WIDTH, HEIGHT]\n",
        "\n",
        "#Define some colors for visualization - these vectors are flipped (b,g,r) instead of (r,g,b)\n",
        "black = (0,0,0)\n",
        "lightblue = (250,120,0)\n",
        "darkblue = (160,40,0)\n",
        "red = (0,0,255)\n",
        "white = (255,255,255)\n",
        "blue = (255,0,0)\n",
        "grey = (70,70,70)\n",
        "yellow = (0,255,255)\n",
        "green = (0,255,0)\n",
        "purple = (255,0,255)\n",
        "orange = (0,165,255)\n",
        "\n",
        "# Screen centre will correspond to (x, y) = (0, 0)\n",
        "u0 = WIDTH/2 \n",
        "v0 = HEIGHT/2\n",
        "\n",
        "# Initialise Pygame display screen\n",
        "screen = pygame.display.set_mode(size)\n",
        "\n",
        "# This makes the normal mouse pointer invisible in graphics window\n",
        "pygame.mouse.set_visible(0)\n",
        "\n",
        "# Array for path choices use for graphics \n",
        "pathstodraw = []"
      ],
      "metadata": {
        "id": "Tm1ZVYy26AD6"
      },
      "execution_count": null,
      "outputs": []
    },
    {
      "cell_type": "markdown",
      "source": [
        "## Functions to generate obstacles"
      ],
      "metadata": {
        "id": "ENLh_hgO-SP5"
      }
    },
    {
      "cell_type": "code",
      "source": [
        "#calculate barrier dimensions from points in linebarriers\n",
        "staticbarriers = linebarriers\n",
        "barrierlengths = []\n",
        "for (i,statbarrier) in enumerate(staticbarriers): \n",
        "  barrierlengths = np.append(barrierlengths,np.linalg.norm(statbarrier[0:2]- statbarrier[2:]))\n",
        "barrierlengths = np.array([barrierlengths])\n",
        "barrierwidths = np.ones_like(barrierlengths)\n",
        "barrierdims = np.append(barrierlengths,barrierwidths, axis=0)\n",
        "\n",
        "staticbarriers=np.append(staticbarriers, np.transpose(barrierdims), axis=1)\n"
      ],
      "metadata": {
        "id": "Uj9d7jCXJ99h"
      },
      "execution_count": null,
      "outputs": []
    },
    {
      "cell_type": "markdown",
      "source": [
        "### Graphics functions"
      ],
      "metadata": {
        "id": "BXrgJFRO-2gE"
      }
    },
    {
      "cell_type": "code",
      "source": [
        "def moveBarriers(dt):\n",
        "  for (i, barrier) in enumerate(barriers):\n",
        "    barriers[i][0] += barriers[i][2] * dt\n",
        "    if (barriers[i][0] < PLAYFIELDCORNERS[0]):\n",
        "            barriers[i][2] = -barriers[i][2]\n",
        "    if (barriers[i][0] > PLAYFIELDCORNERS[2]):\n",
        "            barriers[i][2] = -barriers[i][2]\n",
        "    barriers[i][1] += barriers[i][3] * dt\n",
        "    if (barriers[i][1] < PLAYFIELDCORNERS[1]):\n",
        "            barriers[i][3] = -barriers[i][3]\n",
        "    if (barriers[i][1] > PLAYFIELDCORNERS[3]):\n",
        "            barriers[i][3] = -barriers[i][3]\n",
        "\n",
        "def drawBarriers(barriers):\n",
        "  for (i,barrier) in enumerate (barriers):\n",
        "    bar = np.array([[barrier[0],barrier[1]]])\n",
        "    bar = world2image(bar, H_inv)\n",
        "    barrier = np.reshape(bar,(2,))\n",
        "    bcol = red\n",
        "    pygame.draw.circle(screen, bcol, (int(barrier[1]), int(barrier[0])), int( k*BARRIERRADIUS), 0)"
      ],
      "metadata": {
        "id": "0LGKGlNI-Yjg"
      },
      "execution_count": null,
      "outputs": []
    },
    {
      "cell_type": "markdown",
      "source": [
        "### Position prediction"
      ],
      "metadata": {
        "id": "g4Oss0BT-zgA"
      }
    },
    {
      "cell_type": "code",
      "source": [
        "# Function to predict new robot position based on current pose and velocity controls\n",
        "# Uses time deltat in future\n",
        "# Returns xnew, ynew, thetanew, path. Path is just used for graphics, and returns some complicated stuff\n",
        "# used to draw the possible paths during planning. Don't worry about the details.\n",
        "def predictPosition(vL, vR, x, y, theta, deltat):\n",
        "        \n",
        "        if (round (vL,3) == round(vR,3)): # Straight line motion (Pure translation)\n",
        "                xnew = x + vL * deltat * math.cos(theta)\n",
        "                ynew = y + vL * deltat * math.sin(theta)\n",
        "                thetanew = theta\n",
        "                path = (0, vL * deltat)   # 0 indicates pure translation\n",
        "        \n",
        "        elif (round(vL,3) == -round(vR,3)): # Pure rotation motion\n",
        "                xnew = x\n",
        "                ynew = y\n",
        "                thetanew = theta + ((vR - vL) * deltat / W)\n",
        "                path = (1, 0) # 1 indicates pure rotation\n",
        "       \n",
        "        else:  #Combination of both\n",
        "                num_arc_points = 3;\n",
        "                arc_points = np.zeros(shape=(num_arc_points,2))\n",
        "\n",
        "                R = W / 2.0 * (vR + vL) / (vR - vL) #radius of the curve\n",
        "                deltatheta = (vR - vL) * deltat / W #arc angle\n",
        "                xnew = x + R * (math.sin(deltatheta + theta) - math.sin(theta))\n",
        "                ynew = y - R * (math.cos(deltatheta + theta) - math.cos(theta))\n",
        "                thetanew = theta + deltatheta\n",
        "                deltatheta_step = 0\n",
        "                for i in range(0,num_arc_points):\n",
        "                   deltatheta_step = deltatheta_step + deltatheta/num_arc_points\n",
        "                   x_stepnew = x + R * (math.sin(deltatheta_step + theta) - math.sin(theta))\n",
        "                   y_stepnew = y - R * (math.cos(deltatheta_step + theta) - math.cos(theta))\n",
        "                   arc_points[i,:] = x_stepnew,y_stepnew\n",
        "  \n",
        "                path = (2, (arc_points[:,0],arc_points[:,1]))\n",
        "\n",
        "        return (xnew, ynew, thetanew, path)"
      ],
      "metadata": {
        "id": "rFVjRkLT_CQs"
      },
      "execution_count": null,
      "outputs": []
    },
    {
      "cell_type": "markdown",
      "source": [
        "### Find distance to closest obstacle "
      ],
      "metadata": {
        "id": "3u7HKHF5_x8q"
      }
    },
    {
      "cell_type": "code",
      "source": [
        "# Used for motion planning\n",
        "def calculateClosestObstacleDistance(x, y):\n",
        "        closestdist = 100000.0  #initialize to arbitrary big number\n",
        "\n",
        "        #moving barriers\n",
        "        for (i,barrier) in enumerate(barriers): \n",
        "          dx = barrier[0] - x\n",
        "          dy = barrier[1] - y\n",
        "          d = math.sqrt(dx**2 + dy**2)\n",
        "          # Distance between closest touching point of circular robot and circular barrier\n",
        "          dist = d - BARRIERRADIUS - W\n",
        "\n",
        "          if (dist < closestdist):  #update closestdist\n",
        "            closestdist = dist\n",
        "        \n",
        "        #circular static barriers\n",
        "        for (i,barrier) in enumerate(circlebarriers): \n",
        "          dx = barrier[0] - x\n",
        "          dy = barrier[1] - y\n",
        "          d = math.sqrt(dx**2 + dy**2)\n",
        "          # Distance between closest touching point of circular robot and circular barrier\n",
        "          dist = d - BARRIERRADIUS - 0.2  #0.2 is circlebarrier radius\n",
        "          if (dist < closestdist): #update closestdist\n",
        "                  closestdist = dist        \n",
        "\n",
        "        #rectangular static barriers\n",
        "        for (_,staticbarrier) in enumerate(staticbarriers): \n",
        "          yaw = np.arctan2(staticbarrier[ 3]-staticbarrier[ 1],staticbarrier[ 2]-staticbarrier[ 0]) \n",
        "\n",
        "          center_ob = np.array([(staticbarrier[ 2]+staticbarrier[0])/2,(staticbarrier[ 3]+staticbarrier[ 1])/2])\n",
        "          local_ob =  center_ob- np.array([x,y])\n",
        "\n",
        "          #check each side to see if robot is already inside obstacle\n",
        "          upper_check = local_ob[0] <= staticbarrier[4]*np.cos(yaw)/ 2 + ROBOTRADIUS \n",
        "          right_check = local_ob[1] <= staticbarrier[5]*np.sin(yaw) / 2 + ROBOTRADIUS \n",
        "          bottom_check = local_ob[0] >= -staticbarrier[4]*np.cos(yaw) / 2 - ROBOTRADIUS\n",
        "          left_check = local_ob[1] >= -staticbarrier[5]*np.sin(yaw)/ 2 - ROBOTRADIUS\n",
        "\n",
        "          if (np.logical_and(np.logical_and(upper_check, right_check),\n",
        "                           np.logical_and(bottom_check, left_check))).any():\n",
        "            return float(-1) \n",
        "            \n",
        "          else: #robot is outside obstacle - calculate dist to obstacle\n",
        "            d = math.sqrt((center_ob[0]-x)**2+(center_ob[1]-y)**2)\n",
        "            dist = d - STATICBARRIERTHICKNESS  - W\n",
        "          \n",
        "            if (dist < closestdist): #update closestdist\n",
        "                  closestdist = dist \n",
        "\n",
        "        return closestdist #overall closest distance after checking all types of obstacles"
      ],
      "metadata": {
        "id": "YaIuC7Wl_wOY"
      },
      "execution_count": null,
      "outputs": []
    },
    {
      "cell_type": "markdown",
      "source": [
        "## Import Trained Model"
      ],
      "metadata": {
        "id": "zIQUCuvYBcYB"
      }
    },
    {
      "cell_type": "code",
      "source": [
        "#run this the first time to find dataset numbers\n",
        "paths = ['./checkpoint/*social-stgcnn*']\n",
        "KSTEPS=20\n",
        "\n",
        "print(\"*\"*50)\n",
        "print('Number of samples:',KSTEPS)\n",
        "print(\"*\"*50)\n",
        "\n",
        "\n",
        "path = paths[0]\n",
        "exps = glob.glob(path)\n",
        "exps"
      ],
      "metadata": {
        "id": "_FIl-d1rYLg2",
        "colab": {
          "base_uri": "https://localhost:8080/"
        },
        "outputId": "83560bbe-3a77-4ee2-f837-a3380fcc2bc1"
      },
      "execution_count": null,
      "outputs": [
        {
          "output_type": "stream",
          "name": "stdout",
          "text": [
            "**************************************************\n",
            "Number of samples: 20\n",
            "**************************************************\n"
          ]
        },
        {
          "output_type": "execute_result",
          "data": {
            "text/plain": [
              "['./checkpoint/social-stgcnn-univ',\n",
              " './checkpoint/social-stgcnn-hotel',\n",
              " './checkpoint/social-stgcnn-eth']"
            ]
          },
          "metadata": {},
          "execution_count": 17
        }
      ]
    },
    {
      "cell_type": "code",
      "source": [
        "\n",
        "paths = ['./checkpoint/*social-stgcnn*']\n",
        "KSTEPS=20\n",
        "\n",
        "print(\"*\"*50)\n",
        "print('Number of samples:',KSTEPS)\n",
        "print(\"*\"*50)\n",
        "\n",
        "\n",
        "path = paths[0]\n",
        "exps = glob.glob(path)\n",
        "exp_path = exps[1] \n",
        "print('Model being tested are:',exp_path)\n",
        "\n",
        "print(\"*\"*50)\n",
        "print(\"Evaluating model:\",exp_path)\n",
        "\n",
        "model_path = exp_path+'/val_best.pth'\n",
        "args_path = exp_path+'/args.pkl'\n",
        "with open(args_path,'rb') as f: \n",
        "    args = pickle.load(f)\n",
        "\n",
        "stats= exp_path+'/constant_metrics.pkl'\n",
        "with open(stats,'rb') as f: \n",
        "    cm = pickle.load(f)\n",
        "print(\"Stats:\",cm)\n",
        "\n",
        "\n",
        "\n",
        "#Data prep  \n",
        "Temp_Pred_len = 0   # don't store truth frame data for comparison\n",
        "obs_seq_len = args.obs_seq_len\n",
        "pred_seq_len =  Temp_Pred_len #args.pred_seq_len\n",
        "data_set = './datasets/'+args.dataset+'/'\n",
        "\n",
        "dset_test = TrajectoryDataset4mp(\n",
        "        data_set+'test/',\n",
        "        obs_len=obs_seq_len,\n",
        "        pred_len=pred_seq_len,\n",
        "        skip=1,norm_lap_matr=True)\n",
        "\n",
        "loader_test = DataLoader(\n",
        "        dset_test,\n",
        "        batch_size=1, #This is irrelative to the args batch size parameter\n",
        "        shuffle =False,\n",
        "        num_workers=1)\n",
        "\n",
        "\n",
        "\n",
        "#Defining the model \n",
        "model = social_stgcnn(n_stgcnn =args.n_stgcnn,n_txpcnn=args.n_txpcnn,\n",
        "output_feat=args.output_size,seq_len=args.obs_seq_len,\n",
        "kernel_size=args.kernel_size,pred_seq_len=args.pred_seq_len).cuda()\n",
        "model.load_state_dict(torch.load(model_path))\n"
      ],
      "metadata": {
        "colab": {
          "base_uri": "https://localhost:8080/"
        },
        "id": "pXyw9MpTBhaN",
        "outputId": "24f98ac8-4ea3-4968-e195-e1add602e828"
      },
      "execution_count": null,
      "outputs": [
        {
          "output_type": "stream",
          "name": "stdout",
          "text": [
            "**************************************************\n",
            "Number of samples: 20\n",
            "**************************************************\n",
            "Model being tested are: ./checkpoint/social-stgcnn-hotel\n",
            "**************************************************\n",
            "Evaluating model: ./checkpoint/social-stgcnn-hotel\n",
            "Stats: {'min_val_epoch': -1, 'min_val_loss': 9999999999999999}\n",
            "Processing Data .....\n"
          ]
        },
        {
          "output_type": "stream",
          "name": "stderr",
          "text": [
            "100%|██████████| 813/813 [00:20<00:00, 39.40it/s]\n"
          ]
        },
        {
          "output_type": "execute_result",
          "data": {
            "text/plain": [
              "<All keys matched successfully>"
            ]
          },
          "metadata": {},
          "execution_count": 18
        }
      ]
    },
    {
      "cell_type": "markdown",
      "source": [
        "## Motion Planning Section"
      ],
      "metadata": {
        "id": "nPHUdCGbC2jt"
      }
    },
    {
      "cell_type": "code",
      "source": [
        "#pip install networkx==2.3"
      ],
      "metadata": {
        "id": "IZm0VITS9sRz"
      },
      "execution_count": null,
      "outputs": []
    },
    {
      "cell_type": "markdown",
      "source": [
        "### Motion Planner Parameters"
      ],
      "metadata": {
        "id": "WsVQJc_eC7e5"
      }
    },
    {
      "cell_type": "code",
      "source": [
        "# Starting pose of robot\n",
        "x = x_initial\n",
        "y = y_initial\n",
        "transformedinitial = world2image(np.array([[x_initial,y_initial]]), H_inv)\n",
        "xinitial = int(transformedinitial[:,1])\n",
        "yinitial= int(transformedinitial[:,0])\n",
        "theta = theta_initial\n",
        "\n",
        "#target location\n",
        "target = [x_goal,y_goal]\n",
        "transformedtarget = world2image(np.array([target]),H_inv)\n",
        "xt = int(transformedtarget[:,1])\n",
        "yt = int(transformedtarget[:,0])\n",
        "\n",
        "# Use for displaying a trail of the robot's positions\n",
        "locationhistory = []\n",
        "\n",
        "# Starting wheel velocities\n",
        "vL = 0.00\n",
        "vR = 0.00\n",
        "\n",
        "kob = 30 #obstacle scaling constant for graphics\n",
        "k = 30 #scaling constant for graphics\n",
        "\n",
        "# Timestep delta to run control and simulation at\n",
        "dt = 0.4\n",
        "STEPSAHEADTOPLAN = 5\n",
        "TAU = dt * STEPSAHEADTOPLAN\n",
        "\n",
        "#center of image\n",
        "u0 = WIDTH/2\n",
        "v0 = HEIGHT/2\n",
        "\n",
        "# Planning\n",
        "#MODIFY THESE WEIGHTS TO MEET YOUR GOALS\n",
        "FORWARDWEIGHT = 5 #indicates how important it is to move forward \n",
        "OBSTACLEWEIGHT = 5000 #indicates how important it is to avoid obstacles"
      ],
      "metadata": {
        "id": "SJoofSzYC6SH"
      },
      "execution_count": null,
      "outputs": []
    },
    {
      "cell_type": "markdown",
      "source": [
        "### Main Loop"
      ],
      "metadata": {
        "id": "5pk7kHuwD8kj"
      }
    },
    {
      "cell_type": "code",
      "source": [
        "global loader_test,model\n",
        "model.eval()\n",
        "step = 0 \n",
        "dt = 0.4 # time in between frames\n",
        "seq_len = 8\n",
        "collisionCount = 0\n",
        "frame_count=0\n",
        "for batch in loader_test: \n",
        "        step+=1\n",
        "        frame_to_display = step + seq_len\n",
        "\n",
        "        # Get data\n",
        "        batch = [tensor.cuda() for tensor in batch]\n",
        "        obs_traj, pred_traj_gt, obs_traj_rel, pred_traj_gt_rel, \\\n",
        "        loss_mask,V_obs,A_obs,V_tr,A_tr,short_seq_obs_traj_tr,instant_pos_obs_traj_tr= batch\n",
        "         # Also need the short seq data and instantaneous pos data\n",
        "\n",
        "        num_of_objs = obs_traj_rel.shape[1]\n",
        "        if num_of_objs>0:\n",
        "            #Forward\n",
        "            V_obs_tmp =V_obs.permute(0,3,1,2)\n",
        "\n",
        "            V_pred,_ = model(V_obs_tmp,A_obs.squeeze())\n",
        "            V_pred = V_pred.permute(0,2,3,1)\n",
        "\n",
        "            V_tr = V_tr.squeeze()\n",
        "            A_tr = A_tr.squeeze()\n",
        "\n",
        "            V_pred = V_pred.squeeze()\n",
        "            V_pred,V_tr =  V_pred[:,:num_of_objs,:],V_tr[:,:num_of_objs,:]\n",
        "\n",
        "            #statistics\n",
        "            sx = torch.exp(V_pred[STEPSAHEADTOPLAN-1,:,2]) #sx\n",
        "            sy = torch.exp(V_pred[STEPSAHEADTOPLAN-1,:,3]) #sy\n",
        "            corr = torch.tanh(V_pred[STEPSAHEADTOPLAN-1,:,4]) #correlation\n",
        "            cov = torch.zeros(V_pred.shape[1],2,2).cuda()\n",
        "\n",
        "            cov[:,0,0]= sx*sx\n",
        "            cov[:,0,1]= corr*sx*sy\n",
        "            cov[:,1,0]= corr*sx*sy\n",
        "            cov[:,1,1]= sy*sy\n",
        "\n",
        "            mean = V_pred[STEPSAHEADTOPLAN-1,:,0:2].squeeze()\n",
        "\n",
        "            # num of frames by num of peds by x,y\n",
        "            mvnormal = torchdist.MultivariateNormal(mean,cov)\n",
        "\n",
        "            pred_traj = mvnormal.sample() #sample_mvnnormal_xy_at_STEPSAHEADTOPLAN\n",
        "                        \n",
        "        # For display of trail\n",
        "        locationhistory.append((x, y))\n",
        "        \n",
        "        # Planning\n",
        "        # We want to find the best benefit where we have a positive component for closeness to target,\n",
        "        # and a negative component for closeness to obstacles, for each of a choice of possible actions\n",
        "        bestBenefit = -100000\n",
        "        FARPOINT = 1e3\n",
        "        barriers = np.array([FARPOINT,FARPOINT,0,0])\n",
        "        barriers = barriers.reshape(1,4)\n",
        "        trueSubjectPositions = np.array([FARPOINT,FARPOINT])\n",
        "        trueSubjectPositions = (trueSubjectPositions).reshape(1,2)\n",
        "\n",
        "        num_short_sub = short_seq_obs_traj_tr.size()\n",
        "        num_inst_sub = instant_pos_obs_traj_tr.size()\n",
        "\n",
        "        if num_short_sub[-1] > 0:\n",
        "\n",
        "          short_seq_obs_traj= short_seq_obs_traj_tr.to(\"cpu\").numpy()\n",
        "          short_seq_obs_traj = np.transpose(short_seq_obs_traj.squeeze(axis=0),(2,1,0)) # Remove singleton related to batch size, and reshape to num_ped by dim by short_seq_len\n",
        "          trueSubjectPositions= np.concatenate((trueSubjectPositions,short_seq_obs_traj[:,:,-1]),axis=0)\n",
        "\n",
        "          short_seq_barrier = np.concatenate((short_seq_obs_traj[:,:,-1],np.diff(short_seq_obs_traj[:,:,-2:],axis=2).squeeze(axis=2)/dt),axis=1)\n",
        "          barriers = np.concatenate((barriers,short_seq_barrier),axis=0)\n",
        "\n",
        "          moveBarriers(STEPSAHEADTOPLAN*dt)\n",
        "\n",
        "        \n",
        "        barriers = barriers[:,0:2]\n",
        "\n",
        "        if num_inst_sub[-1] >0:\n",
        "          instant_pos_obs_traj = (instant_pos_obs_traj_tr.to(\"cpu\").numpy())\n",
        "          instant_pos_obs_traj = np.transpose(instant_pos_obs_traj.squeeze(axis=0),(1,0)) # Squeeze out singleton dimension related to batch size, and transpose to num_ped by dim\n",
        "          trueSubjectPositions=np.concatenate((trueSubjectPositions,instant_pos_obs_traj),axis=0)\n",
        "          barriers=np.concatenate((barriers,instant_pos_obs_traj),axis=0)          \n",
        "          \n",
        "          \n",
        "        if num_of_objs > 0:\n",
        "          obs_traj = np.transpose(obs_traj.to(\"cpu\").numpy().squeeze(axis=0),(0,1,2)) # Squeeze out singleton dimension related to batch size and reshape to num_ped by dim by seq_len\n",
        "          trueSubjectPositions= np.concatenate((trueSubjectPositions,obs_traj[:,:,-1]),axis=0)\n",
        "\n",
        "          pred_traj = pred_traj.to(\"cpu\").numpy()\n",
        "          barriers=np.concatenate((barriers,pred_traj),axis=0) \n",
        "\n",
        "        \n",
        "        # Range of possible motions: each of vL and vR could go up or down a bit\n",
        "        vLpossiblearray = (vL - MAXACCELERATION * dt, vL, vL + MAXACCELERATION * dt)\n",
        "        vRpossiblearray = (vR - MAXACCELERATION * dt, vR, vR + MAXACCELERATION * dt)\n",
        "        pathstodraw = [] # We will store path details here for plotting later\n",
        "        newpositionstodraw = [] # Also for possible plotting of robot end positions\n",
        "        for vLpossible in vLpossiblearray:\n",
        "                for vRpossible in vRpossiblearray:\n",
        "                        # We can only choose an action if it's within velocity limits\n",
        "                        if (vLpossible <= MAXVELOCITY and vRpossible <= MAXVELOCITY and vLpossible >= -MAXVELOCITY and vRpossible >= -MAXVELOCITY):\n",
        "                                # Predict new position in TAU seconds\n",
        "                                (xpredict, ypredict, thetapredict, path) = predictPosition(vLpossible, vRpossible, x, y, theta, TAU)\n",
        "                                pathstodraw.append(path)\n",
        "                                newpositionstodraw.append((xpredict, ypredict))\n",
        "                                # What is the distance to the closest obstacle from this possible position?\n",
        "                                distanceToObstacle = calculateClosestObstacleDistance(xpredict, ypredict)\n",
        "                                # Calculate how much close we've moved to target location\n",
        "                                previousTargetDistance = math.sqrt((x - target[0])**2 + (y - target[1])**2)\n",
        "                                newTargetDistance = math.sqrt((xpredict - target[0])**2 + (ypredict - target[1])**2)\n",
        "                                distanceForward = previousTargetDistance - newTargetDistance\n",
        "\n",
        "                                # Positive benefit\n",
        "                                distanceBenefit = FORWARDWEIGHT * distanceForward\n",
        "                                # Negative cost: once we are less than SAFEDIST from collision, linearly increasing cost\n",
        "                                if (distanceToObstacle < SAFEDIST):                                 \n",
        "                                        obstacleCost = OBSTACLEWEIGHT * (SAFEDIST - distanceToObstacle)\n",
        "                                else:\n",
        "                                        obstacleCost = 0.0\n",
        "                                # Total benefit function to optimise\n",
        "                                benefit = distanceBenefit - obstacleCost\n",
        "\n",
        "                                if (benefit > bestBenefit):\n",
        "                                        vLchosen = vLpossible\n",
        "                                        vRchosen = vRpossible\n",
        "                                        bestBenefit = benefit\n",
        "\n",
        "        vL = vLchosen\n",
        "        vR = vRchosen\n",
        "        \n",
        "\n",
        "######## Planning is finished; now do graphics ############\n",
        "        screen.fill(black)\n",
        "        draw_map(screen,variables,H_inv,kob)\n",
        "        \n",
        "        for loc in locationhistory:\n",
        "          transloc = world2image(np.array([[loc[0],loc[1]]]),H_inv)\n",
        "          loc =(transloc[:,1],transloc[:,0])\n",
        "\n",
        "          pygame.draw.circle(screen, grey, (int(loc[0]), int(loc[1])), int(k*ROBOTRADIUS), 0)\n",
        "\n",
        "        #Draw the initial position\n",
        "        pygame.draw.circle(screen, grey, (xinitial,yinitial), int(kob*ROBOTRADIUS), 0)\n",
        "        #Draw the target position\n",
        "        pygame.draw.circle(screen, green, (xt,yt), int(kob*ROBOTRADIUS), 0)\n",
        "        \n",
        "        #Draw obstacles\n",
        "        drawBarriers(trueSubjectPositions)\n",
        "        \n",
        "        # Draw robot\n",
        "        u = x\n",
        "        v = y \n",
        "\n",
        "        transformed_uv = world2image(np.array([[u,v]]), H_inv)\n",
        "        u1 = transformed_uv[:,1] # x and y flipped after transformation\n",
        "        v1 = transformed_uv[:,0]\n",
        "    \n",
        "        pygame.draw.circle(screen, purple, (int(u1), int(v1)), int(k * ROBOTRADIUS), 3)\n",
        "\n",
        "        # Draw wheels as little blobs so you can see robot orientation\n",
        "        WHEELBLOB = 0.07\n",
        "        # left wheel centre \n",
        "        wlx = x - (W/2.0) * math.sin(theta)\n",
        "        wly = y + (W/2.0) * math.cos(theta)\n",
        "        ulx = wlx\n",
        "        vly = wly\n",
        "        transformed_ulxvly = world2image(np.array([[ulx,vly]]), H_inv)\n",
        "        ulx1 = transformed_ulxvly[:,1] # x and y flipped\n",
        "        vly1 = transformed_ulxvly[:,0]\n",
        "        \n",
        "        pygame.draw.circle(screen, white, (int(ulx1), int(vly1)), int(k * WHEELBLOB))\n",
        "\n",
        "        # right wheel centre \n",
        "        wrx = x + (W/2.0) * math.sin(theta)\n",
        "        wry = y - (W/2.0) * math.cos(theta)\n",
        "        urx = wrx\n",
        "        ury = wry\n",
        "        transformed_urxvry = world2image(np.array([[urx,ury]]), H_inv)\n",
        "        urx1 = transformed_urxvry[:,1]# x and y flipped\n",
        "        vry1 = transformed_urxvry[:,0]\n",
        "\n",
        "        pygame.draw.circle(screen, white, (int(urx1), int(vry1)), int(k * WHEELBLOB))\n",
        "\n",
        "        # Draw paths: little arcs which show the different paths the robot is selecting between\n",
        "        # A bit complicated so don't worry about the details!\n",
        "        for path in pathstodraw:\n",
        "          #if path[0] = 1:    # Pure rotation: nothing to draw\n",
        "          if path[0] == 0:    # Straight line\n",
        "              straightpath = path[1]\n",
        "              transformed = world2image(np.array([[x,y]]), H_inv)\n",
        "              x1 = int(transformed[:,1]) # flipped x and y \n",
        "              y1 = int(transformed[:,0])\n",
        "              linestart0 = (x1, y1)\n",
        "              transformend0 = world2image(np.array([[(x + straightpath * math.cos(theta)),(y + straightpath * math.sin(theta))]]), H_inv)\n",
        "              xend0 = int(transformend0[:,1]) # flipped x and y \n",
        "              yend0 = int(transformend0[:,0]) \n",
        "              lineend0 = ( xend0,yend0)\n",
        "\n",
        "              pygame.draw.line(screen, lightblue, linestart0, lineend0, 2)\n",
        "              \n",
        "          if path[0] == 2:    # General case: circular arc\n",
        "\n",
        "              for arcindex in range(0,len(path[1])):\n",
        "                arc_pointsstart = path[1][0][arcindex],path[1][1][arcindex]\n",
        "                transformedstartarc = world2image(np.array([arc_pointsstart]), H_inv)\n",
        "                linestart = transformedstartarc[:,1][0],transformedstartarc[:,0][0]\n",
        "                arc_pointsend = path[1][0][arcindex+1],path[1][1][arcindex+1]\n",
        "                transformedendarc = world2image(np.array([arc_pointsend]), H_inv)\n",
        "                lineend = transformedendarc[:,1][0],transformedendarc[:,0][0]\n",
        "\n",
        "                pygame.draw.line(screen, (0, 255, 255), linestart, lineend, 2)\n",
        "\n",
        "        # Update display\n",
        "        pygame.display.update()\n",
        "\n",
        "        # Actually now move robot based on chosen vL and vR\n",
        "        (x, y, theta, tmppath) = predictPosition(vL, vR, x, y, theta, dt)\n",
        "\n",
        "        image = pygame.surfarray.array3d(screen)\n",
        "        image = image.transpose([1, 0, 2])\n",
        "\n",
        "       \n",
        "        if calculateClosestObstacleDistance(x, y) < SAFEDIST: \n",
        "          collisionCount += 1\n",
        "\n",
        "        # Wraparound: check if robot has reached target; \n",
        "        disttotarget = math.sqrt((x - target[0])**2 + (y - target[1])**2)\n",
        "        if (disttotarget < ROBOTRADIUS):\n",
        "          font = pygame.font.Font('freesansbold.ttf', 32)\n",
        "\n",
        "          if collisionCount == 0:\n",
        "            text = font.render('MISSION SUCCESS', True, black, green)\n",
        "            collisionText =font.render('NO COLLISIONS', True, black, green)\n",
        "          else:\n",
        "            text = font.render('MISSION ENDED', True, black, red)\n",
        "            collisionMessage =\"COLLISION COUNT = {0}\".format(collisionCount)\n",
        "            collisionText =font.render(collisionMessage, True, black, red)\n",
        "          \n",
        "          # create a rectangular object for the text surface object\n",
        "          textRect = text.get_rect()\n",
        "          # set the center of the rectangular object\n",
        "          textRect.center = (WIDTH // 2, HEIGHT// 2)\n",
        "          screen.blit(text, textRect)\n",
        "          #repeat for collision text\n",
        "          collisionTextRect = collisionText.get_rect()\n",
        "          collisionTextRect.center = (WIDTH//2, HEIGHT//2+50)\n",
        "          screen.blit(collisionText, collisionTextRect)\n",
        "\n",
        "          image = pygame.surfarray.array3d(screen)\n",
        "          image = image.transpose([1, 0, 2])\n",
        "          pygame.display.update()\n",
        "          output.clear(wait=True)\n",
        "          cv2_imshow(image)   \n",
        "\n",
        "          break\n",
        "\n",
        "        # Reset trail\n",
        "        locationhistory = []\n",
        "\n",
        "        output.clear(wait=True)\n",
        "        cv2_imshow(image)        \n",
        "        # Sleeping dt here runs simulation in real-time\n",
        "        \n",
        "        #uncomment the following 3 lines for saving the frames from animation\n",
        "        frame_count += 1\n",
        "        filename = \"screen_%04d.png\" % ( frame_count )\n",
        "        pygame.image.save( screen, filename )\n",
        "\n",
        "        time.sleep(dt)"
      ],
      "metadata": {
        "id": "gEIZytCMD-Hl",
        "colab": {
          "base_uri": "https://localhost:8080/",
          "height": 497
        },
        "outputId": "76e80e51-a056-4a4d-9d9c-fb17d325f8c8"
      },
      "execution_count": null,
      "outputs": [
        {
          "output_type": "display_data",
          "data": {
            "text/plain": [
              "<PIL.Image.Image image mode=RGB size=640x480 at 0x7FBA800A2FA0>"
            ],
            "image/png": "[encoded data removed]"
          },
          "metadata": {}
        }
      ]
    },
    {
      "cell_type": "code",
      "source": [
        "os.system(\"ffmpeg -framerate 5 -i screen_%04d.png outputVideo.mp4\")"
      ],
      "metadata": {
        "id": "3eeAXLZ7NIZs",
        "colab": {
          "base_uri": "https://localhost:8080/"
        },
        "outputId": "f0e4594e-64da-4e6b-f253-67620525d0cd"
      },
      "execution_count": null,
      "outputs": [
        {
          "output_type": "execute_result",
          "data": {
            "text/plain": [
              "2"
            ]
          },
          "metadata": {},
          "execution_count": 22
        }
      ]
    },
    {
      "cell_type": "code",
      "source": [
        "# If you want to delete the saved images from your drive after creating the video, run this part\n",
        "for filename in glob.glob(\"screen_*\"):\n",
        "    os.remove(filename) "
      ],
      "metadata": {
        "id": "n5Rl0QzKNI7u"
      },
      "execution_count": null,
      "outputs": []
    }
  ]
}